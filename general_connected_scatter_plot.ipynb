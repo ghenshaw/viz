{
 "cells": [
  {
   "cell_type": "markdown",
   "metadata": {},
   "source": [
    "# Connected Scatter Plot\n",
    "Glenn Henshaw"
   ]
  },
  {
   "cell_type": "code",
   "execution_count": 43,
   "metadata": {
    "collapsed": true
   },
   "outputs": [],
   "source": [
    "import matplotlib.pyplot as plt\n",
    "import seaborn as sns\n",
    "%matplotlib inline"
   ]
  },
  {
   "cell_type": "code",
   "execution_count": 52,
   "metadata": {
    "collapsed": false
   },
   "outputs": [],
   "source": [
    "def Connected_scatter_plot(x,y,time,arrows):\n",
    "    '''\n",
    "    x = list of x coordinates\n",
    "    y = list of y coordinates\n",
    "    time = list of time periods to label \n",
    "    \n",
    "    If you want to leave out some of the time labels \n",
    "    then just indert an empty string in that position.\n",
    "    \n",
    "    arrows is a list of True or False of length 1 less\n",
    "    than the lists x and y. arrows indicates arrow placement.\n",
    "    \n",
    "    '''\n",
    "    fig = plt.figure(figsize=(8,8))\n",
    "    ax = fig.add_subplot(111)\n",
    "    \n",
    "    labels = [str(t) for t in time]\n",
    "    \n",
    "    plt.plot(x,y,'xb-',color='r')\n",
    "    plt.xlabel('x-axis',fontsize=15)\n",
    "    plt.ylabel('y-axis',fontsize=15)\n",
    "    \n",
    "    #year labels and arrows\n",
    "    for i in range(len(x)):\n",
    "        ax.annotate(labels[i],xy=(x[i],y[i]), fontsize=15)\n",
    "        # For the arrows we use annotate since otherwise, if we use\n",
    "        # plt.arrow, the arrow shapes will be sensitive to the\n",
    "        # scale differences of the x,y axes.\n",
    "        if (i < len(x) - 1) and arrows[i]:\n",
    "            ax.annotate(\"\", xy=(x[i] + (x[i+1]-x[i])/2 , \n",
    "                                y[i]+(y[i+1]-y[i])/2), \n",
    "                        xytext=(x[i] + (x[i+1]-x[i])/2.1, \n",
    "                                y[i]+(y[i+1]-y[i])/2.1),\n",
    "                        arrowprops=dict(facecolor='r', shrink=0.05))\n",
    "    plt.show()\n",
    "    return None"
   ]
  },
  {
   "cell_type": "code",
   "execution_count": 53,
   "metadata": {
    "collapsed": false
   },
   "outputs": [
    {
     "data": {
      "image/png": "[encoded data removed]",
      "text/plain": [
       "<matplotlib.figure.Figure at 0x7f40bcf3b860>"
      ]
     },
     "metadata": {},
     "output_type": "display_data"
    }
   ],
   "source": [
    "Connected_scatter_plot((1,3,1,5,5,4),(2,4,5,1,3,4),(1980,'',2000,2005,2010,2020),\n",
    "                        arrows=(True,True,False,False,True))"
   ]
  },
  {
   "cell_type": "code",
   "execution_count": null,
   "metadata": {
    "collapsed": true
   },
   "outputs": [],
   "source": []
  }
 ],
 "metadata": {
  "kernelspec": {
   "display_name": "Python 3",
   "language": "python",
   "name": "python3"
  },
  "language_info": {
   "codemirror_mode": {
    "name": "ipython",
    "version": 3
   },
   "file_extension": ".py",
   "mimetype": "text/x-python",
   "name": "python",
   "nbconvert_exporter": "python",
   "pygments_lexer": "ipython3",
   "version": "3.5.2"
  }
 },
 "nbformat": 4,
 "nbformat_minor": 0
}
